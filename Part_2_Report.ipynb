{
 "cells": [
  {
   "cell_type": "markdown",
   "id": "handled-bulgarian",
   "metadata": {},
   "source": [
    "# Summary Report part 2"
   ]
  },
  {
   "cell_type": "code",
   "execution_count": 1,
   "id": "ancient-january",
   "metadata": {},
   "outputs": [],
   "source": [
    "import pandas as pd\n",
    "import numpy as np\n",
    "import matplotlib.pyplot as plt\n",
    "\n",
    "from tqdm import tqdm\n",
    "\n",
    "from scripts.supervised_model_utils import grid_search_pipeline, save_model, load_model, create_train_test, score_model, prepare_data"
   ]
  },
  {
   "cell_type": "markdown",
   "id": "induced-coaching",
   "metadata": {},
   "source": [
    "## Modeling approaches"
   ]
  },
  {
   "cell_type": "markdown",
   "id": "decent-abuse",
   "metadata": {},
   "source": [
    "For these time-series forecasting business problem, a supervised approach will be considered, using the Random Forest Regressor as predictive algorithm."
   ]
  },
  {
   "cell_type": "markdown",
   "id": "caroline-february",
   "metadata": {},
   "source": [
    "## Modeling"
   ]
  }
 ],
 "metadata": {
  "kernelspec": {
   "display_name": "Python 3",
   "language": "python",
   "name": "python3"
  },
  "language_info": {
   "codemirror_mode": {
    "name": "ipython",
    "version": 3
   },
   "file_extension": ".py",
   "mimetype": "text/x-python",
   "name": "python",
   "nbconvert_exporter": "python",
   "pygments_lexer": "ipython3",
   "version": "3.7.9"
  }
 },
 "nbformat": 4,
 "nbformat_minor": 5
}
